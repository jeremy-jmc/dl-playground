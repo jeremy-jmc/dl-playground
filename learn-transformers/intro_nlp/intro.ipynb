{
 "cells": [
  {
   "cell_type": "code",
   "execution_count": 1,
   "metadata": {},
   "outputs": [],
   "source": [
    "# https://pytorch.org/tutorials/intermediate/seq2seq_translation_tutorial.html\n",
    "# https://medium.com/@thevnotebook/introduction-to-natural-language-processing-with-pytorch-1-5-83691a0e1d5f\n",
    "# https://www.datacamp.com/tutorial/nlp-with-pytorch-a-comprehensive-guide -> sentimental classification\n",
    "# https://stackoverflow.com/questions/48302810/whats-the-difference-between-hidden-and-output-in-pytorch-lstm\n",
    "# https://pytorch.org/docs/stable/torch.html#indexing-slicing-joining-mutating-ops\n"
   ]
  },
  {
   "cell_type": "code",
   "execution_count": 2,
   "metadata": {},
   "outputs": [],
   "source": [
    "from __future__ import unicode_literals, print_function, division\n",
    "from io import open\n",
    "import unicodedata\n",
    "import re\n",
    "import random\n",
    "\n",
    "import torch\n",
    "import torch.nn as nn\n",
    "from torch import optim\n",
    "import torch.nn.functional as F\n",
    "\n",
    "import numpy as np\n",
    "from torch.utils.data import TensorDataset, DataLoader, RandomSampler\n",
    "\n",
    "device = torch.device(\"cuda\" if torch.cuda.is_available() else \"cpu\")\n",
    "\n",
    "# set seed for reproducibility\n",
    "\n",
    "seed_val = 42\n",
    "random.seed(seed_val)\n",
    "np.random.seed(seed_val)\n",
    "torch.manual_seed(seed_val)\n",
    "torch.cuda.manual_seed_all(seed_val)"
   ]
  },
  {
   "cell_type": "code",
   "execution_count": 3,
   "metadata": {},
   "outputs": [],
   "source": [
    "# !unzip data.zip"
   ]
  },
  {
   "cell_type": "code",
   "execution_count": 4,
   "metadata": {},
   "outputs": [],
   "source": [
    "SOS_token = 0\n",
    "EOS_token = 1\n",
    "\n",
    "class Lang:\n",
    "    def __init__(self, name):\n",
    "        self.name = name\n",
    "        self.word2index = {}\n",
    "        self.word2count = {}\n",
    "        self.index2word = {0: \"SOS\", 1: \"EOS\"}\n",
    "        self.n_words = 2  # Count SOS and EOS\n",
    "\n",
    "    def addSentence(self, sentence):\n",
    "        for word in sentence.split(' '):\n",
    "            self.addWord(word)\n",
    "\n",
    "    def addWord(self, word):\n",
    "        if word not in self.word2index:\n",
    "            self.word2index[word] = self.n_words\n",
    "            self.word2count[word] = 1\n",
    "            self.index2word[self.n_words] = word\n",
    "            self.n_words += 1\n",
    "        else:\n",
    "            self.word2count[word] += 1"
   ]
  },
  {
   "cell_type": "code",
   "execution_count": 5,
   "metadata": {},
   "outputs": [],
   "source": [
    "# Turn a Unicode string to plain ASCII, thanks to\n",
    "# https://stackoverflow.com/a/518232/2809427\n",
    "def unicodeToAscii(s):\n",
    "    return ''.join(\n",
    "        c for c in unicodedata.normalize('NFD', s)\n",
    "        if unicodedata.category(c) != 'Mn'\n",
    "    )\n",
    "\n",
    "# Lowercase, trim, and remove non-letter characters\n",
    "def normalizeString(s):\n",
    "    s = unicodeToAscii(s.lower().strip())\n",
    "    s = re.sub(r\"([.!?])\", r\" \\1\", s)\n",
    "    s = re.sub(r\"[^a-zA-Z!?]+\", r\" \", s)\n",
    "    return s.strip()"
   ]
  },
  {
   "cell_type": "code",
   "execution_count": 6,
   "metadata": {},
   "outputs": [],
   "source": [
    "def readLangs(lang1, lang2, reverse=False):\n",
    "    print(\"Reading lines...\")\n",
    "\n",
    "    # Read the file and split into lines\n",
    "    lines = open('data/%s-%s.txt' % (lang1, lang2), encoding='utf-8').\\\n",
    "        read().strip().split('\\n')\n",
    "\n",
    "    # Split every line into pairs and normalize\n",
    "    pairs = [[normalizeString(s) for s in l.split('\\t')] for l in lines]\n",
    "\n",
    "    # Reverse pairs, make Lang instances\n",
    "    if reverse:\n",
    "        pairs = [list(reversed(p)) for p in pairs]\n",
    "        input_lang = Lang(lang2)\n",
    "        output_lang = Lang(lang1)\n",
    "    else:\n",
    "        input_lang = Lang(lang1)\n",
    "        output_lang = Lang(lang2)\n",
    "\n",
    "    return input_lang, output_lang, pairs"
   ]
  },
  {
   "cell_type": "code",
   "execution_count": 7,
   "metadata": {},
   "outputs": [],
   "source": [
    "MAX_LENGTH = 10\n",
    "\n",
    "eng_prefixes = (\n",
    "    \"i am \", \"i m \",\n",
    "    \"he is\", \"he s \",\n",
    "    \"she is\", \"she s \",\n",
    "    \"you are\", \"you re \",\n",
    "    \"we are\", \"we re \",\n",
    "    \"they are\", \"they re \"\n",
    ")\n",
    "\n",
    "def filterPair(p):\n",
    "    return len(p[0].split(' ')) < MAX_LENGTH and \\\n",
    "        len(p[1].split(' ')) < MAX_LENGTH and \\\n",
    "        p[1].startswith(eng_prefixes)\n",
    "\n",
    "\n",
    "def filterPairs(pairs):\n",
    "    return [pair for pair in pairs if filterPair(pair)]"
   ]
  },
  {
   "cell_type": "code",
   "execution_count": 8,
   "metadata": {},
   "outputs": [
    {
     "name": "stdout",
     "output_type": "stream",
     "text": [
      "Reading lines...\n",
      "Read 135842 sentence pairs\n",
      "Trimmed to 11445 sentence pairs\n",
      "Counting words...\n",
      "Counted words:\n",
      "fra 4601\n",
      "eng 2991\n"
     ]
    }
   ],
   "source": [
    "def prepareData(lang1, lang2, reverse=False):\n",
    "    input_lang, output_lang, pairs = readLangs(lang1, lang2, reverse)\n",
    "    print(\"Read %s sentence pairs\" % len(pairs))\n",
    "    pairs = filterPairs(pairs)\n",
    "    print(\"Trimmed to %s sentence pairs\" % len(pairs))\n",
    "    print(\"Counting words...\")\n",
    "    for pair in pairs:\n",
    "        input_lang.addSentence(pair[0])\n",
    "        output_lang.addSentence(pair[1])\n",
    "    print(\"Counted words:\")\n",
    "    print(input_lang.name, input_lang.n_words)\n",
    "    print(output_lang.name, output_lang.n_words)\n",
    "    return input_lang, output_lang, pairs\n",
    "\n",
    "input_lang, output_lang, pairs = prepareData('eng', 'fra', True)"
   ]
  },
  {
   "cell_type": "code",
   "execution_count": 9,
   "metadata": {},
   "outputs": [
    {
     "name": "stdout",
     "output_type": "stream",
     "text": [
      "['__class__', '__delattr__', '__dict__', '__dir__', '__doc__', '__eq__', '__format__', '__ge__', '__getattribute__', '__gt__', '__hash__', '__init__', '__init_subclass__', '__le__', '__lt__', '__module__', '__ne__', '__new__', '__reduce__', '__reduce_ex__', '__repr__', '__setattr__', '__sizeof__', '__str__', '__subclasshook__', '__weakref__', 'addSentence', 'addWord', 'index2word', 'n_words', 'name', 'word2count', 'word2index']\n"
     ]
    }
   ],
   "source": [
    "print(dir(input_lang))"
   ]
  },
  {
   "cell_type": "code",
   "execution_count": 10,
   "metadata": {},
   "outputs": [
    {
     "name": "stdout",
     "output_type": "stream",
     "text": [
      "['nous craignons de manquer notre train', 'we re afraid we ll miss our train']\n"
     ]
    }
   ],
   "source": [
    "print(random.choice(pairs))"
   ]
  },
  {
   "cell_type": "code",
   "execution_count": 11,
   "metadata": {},
   "outputs": [],
   "source": [
    "class EncoderRNN(nn.Module):\n",
    "    def __init__(self, input_size, hidden_size, dropout_p=0.1):\n",
    "        super(EncoderRNN, self).__init__()\n",
    "        self.hidden_size = hidden_size\n",
    "\n",
    "        self.embedding = nn.Embedding(input_size, hidden_size)\n",
    "        self.gru = nn.GRU(hidden_size, hidden_size, batch_first=True)\n",
    "        self.dropout = nn.Dropout(dropout_p)\n",
    "\n",
    "    def forward(self, input):\n",
    "        embedded = self.dropout(self.embedding(input))\n",
    "        output, hidden = self.gru(embedded)\n",
    "        return output, hidden"
   ]
  },
  {
   "cell_type": "code",
   "execution_count": 12,
   "metadata": {},
   "outputs": [],
   "source": [
    "class DecoderRNN(nn.Module):\n",
    "    def __init__(self, hidden_size, output_size):\n",
    "        super(DecoderRNN, self).__init__()\n",
    "        self.embedding = nn.Embedding(output_size, hidden_size)\n",
    "        self.gru = nn.GRU(hidden_size, hidden_size, batch_first=True)\n",
    "        self.out = nn.Linear(hidden_size, output_size)\n",
    "\n",
    "    def forward(self, encoder_outputs, encoder_hidden, target_tensor=None):\n",
    "        batch_size = encoder_outputs.size(0)\n",
    "        decoder_input = torch.empty(batch_size, 1, dtype=torch.long, device=device).fill_(SOS_token)\n",
    "        decoder_hidden = encoder_hidden\n",
    "        decoder_outputs = []\n",
    "\n",
    "        for i in range(MAX_LENGTH):\n",
    "            decoder_output, decoder_hidden  = self.forward_step(decoder_input, decoder_hidden)\n",
    "            decoder_outputs.append(decoder_output)\n",
    "\n",
    "            if target_tensor is not None:\n",
    "                # Teacher forcing: Feed the target as the next input\n",
    "                decoder_input = target_tensor[:, i].unsqueeze(1) # Teacher forcing\n",
    "            else:\n",
    "                # Without teacher forcing: use its own predictions as the next input\n",
    "                _, topi = decoder_output.topk(1)\n",
    "                decoder_input = topi.squeeze(-1).detach()  # detach from history as input\n",
    "\n",
    "        decoder_outputs = torch.cat(decoder_outputs, dim=1)\n",
    "        decoder_outputs = F.log_softmax(decoder_outputs, dim=-1)\n",
    "        return decoder_outputs, decoder_hidden, None # We return `None` for consistency in the training loop\n",
    "\n",
    "    def forward_step(self, input, hidden):\n",
    "        output = self.embedding(input)\n",
    "        output = F.relu(output)\n",
    "        output, hidden = self.gru(output, hidden)\n",
    "        output = self.out(output)\n",
    "        return output, hidden"
   ]
  },
  {
   "cell_type": "code",
   "execution_count": 13,
   "metadata": {},
   "outputs": [],
   "source": [
    "class BahdanauAttention(nn.Module):\n",
    "    def __init__(self, hidden_size):\n",
    "        super(BahdanauAttention, self).__init__()\n",
    "        self.Wa = nn.Linear(hidden_size, hidden_size)\n",
    "        self.Ua = nn.Linear(hidden_size, hidden_size)\n",
    "        self.Va = nn.Linear(hidden_size, 1)\n",
    "\n",
    "    def forward(self, query, keys):\n",
    "        scores = self.Va(torch.tanh(self.Wa(query) + self.Ua(keys)))\n",
    "        scores = scores.squeeze(2).unsqueeze(1)\n",
    "\n",
    "        weights = F.softmax(scores, dim=-1)\n",
    "        context = torch.bmm(weights, keys)\n",
    "\n",
    "        return context, weights\n",
    "\n",
    "\n",
    "class AttnDecoderRNN(nn.Module):\n",
    "    def __init__(self, hidden_size, output_size, dropout_p=0.1):\n",
    "        super(AttnDecoderRNN, self).__init__()\n",
    "        self.embedding = nn.Embedding(output_size, hidden_size)\n",
    "        self.attention = BahdanauAttention(hidden_size)\n",
    "        self.gru = nn.GRU(2 * hidden_size, hidden_size, batch_first=True)\n",
    "        self.out = nn.Linear(hidden_size, output_size)\n",
    "        self.dropout = nn.Dropout(dropout_p)\n",
    "\n",
    "    def forward(self, encoder_outputs, encoder_hidden, target_tensor=None):\n",
    "        batch_size = encoder_outputs.size(0)\n",
    "        decoder_input = torch.empty(batch_size, 1, dtype=torch.long, device=device).fill_(SOS_token)\n",
    "        decoder_hidden = encoder_hidden\n",
    "        decoder_outputs = []\n",
    "        attentions = []\n",
    "\n",
    "        for i in range(MAX_LENGTH):\n",
    "            decoder_output, decoder_hidden, attn_weights = self.forward_step(\n",
    "                decoder_input, decoder_hidden, encoder_outputs\n",
    "            )\n",
    "            decoder_outputs.append(decoder_output)\n",
    "            attentions.append(attn_weights)\n",
    "\n",
    "            if target_tensor is not None:\n",
    "                # Teacher forcing: Feed the target as the next input\n",
    "                decoder_input = target_tensor[:, i].unsqueeze(1) # Teacher forcing\n",
    "            else:\n",
    "                # Without teacher forcing: use its own predictions as the next input\n",
    "                _, topi = decoder_output.topk(1)\n",
    "                decoder_input = topi.squeeze(-1).detach()  # detach from history as input\n",
    "\n",
    "        decoder_outputs = torch.cat(decoder_outputs, dim=1)\n",
    "        decoder_outputs = F.log_softmax(decoder_outputs, dim=-1)\n",
    "        attentions = torch.cat(attentions, dim=1)\n",
    "\n",
    "        return decoder_outputs, decoder_hidden, attentions\n",
    "\n",
    "\n",
    "    def forward_step(self, input, hidden, encoder_outputs):\n",
    "        embedded =  self.dropout(self.embedding(input))\n",
    "\n",
    "        query = hidden.permute(1, 0, 2)\n",
    "        context, attn_weights = self.attention(query, encoder_outputs)\n",
    "        input_gru = torch.cat((embedded, context), dim=2)\n",
    "\n",
    "        output, hidden = self.gru(input_gru, hidden)\n",
    "        output = self.out(output)\n",
    "\n",
    "        return output, hidden, attn_weights"
   ]
  },
  {
   "cell_type": "code",
   "execution_count": 14,
   "metadata": {},
   "outputs": [],
   "source": [
    "def indexesFromSentence(lang, sentence):\n",
    "    return [lang.word2index[word] for word in sentence.split(' ')]\n",
    "\n",
    "def tensorFromSentence(lang, sentence):\n",
    "    indexes = indexesFromSentence(lang, sentence)\n",
    "    indexes.append(EOS_token)\n",
    "    return torch.tensor(indexes, dtype=torch.long, device=device).view(1, -1)\n",
    "\n",
    "def tensorsFromPair(pair):\n",
    "    input_tensor = tensorFromSentence(input_lang, pair[0])\n",
    "    target_tensor = tensorFromSentence(output_lang, pair[1])\n",
    "    return (input_tensor, target_tensor)\n",
    "\n",
    "def get_dataloader(batch_size):\n",
    "    input_lang, output_lang, pairs = prepareData('eng', 'fra', True)\n",
    "\n",
    "    n = len(pairs)\n",
    "    input_ids = np.zeros((n, MAX_LENGTH), dtype=np.int32)\n",
    "    target_ids = np.zeros((n, MAX_LENGTH), dtype=np.int32)\n",
    "\n",
    "    for idx, (inp, tgt) in enumerate(pairs):\n",
    "        inp_ids = indexesFromSentence(input_lang, inp)\n",
    "        tgt_ids = indexesFromSentence(output_lang, tgt)\n",
    "        inp_ids.append(EOS_token)\n",
    "        tgt_ids.append(EOS_token)\n",
    "        input_ids[idx, :len(inp_ids)] = inp_ids\n",
    "        target_ids[idx, :len(tgt_ids)] = tgt_ids\n",
    "\n",
    "    train_data = TensorDataset(torch.LongTensor(input_ids).to(device),\n",
    "                               torch.LongTensor(target_ids).to(device))\n",
    "\n",
    "    train_sampler = RandomSampler(train_data)\n",
    "    train_dataloader = DataLoader(train_data, sampler=train_sampler, batch_size=batch_size)\n",
    "    return input_lang, output_lang, train_dataloader"
   ]
  },
  {
   "cell_type": "code",
   "execution_count": 15,
   "metadata": {},
   "outputs": [],
   "source": [
    "import time\n",
    "import math\n",
    "\n",
    "def asMinutes(s):\n",
    "    m = math.floor(s / 60)\n",
    "    s -= m * 60\n",
    "    return '%dm %ds' % (m, s)\n",
    "\n",
    "def timeSince(since, percent):\n",
    "    now = time.time()\n",
    "    s = now - since\n",
    "    es = s / (percent)\n",
    "    rs = es - s\n",
    "    return '%s (- %s)' % (asMinutes(s), asMinutes(rs))\n",
    "\n",
    "import matplotlib.pyplot as plt\n",
    "# plt.switch_backend('agg')\n",
    "# plt.switch_backend('TkAgg')\n",
    "\n",
    "import matplotlib.ticker as ticker\n",
    "import numpy as np\n",
    "\n",
    "def showPlot(points):\n",
    "    plt.figure()\n",
    "    fig, ax = plt.subplots()\n",
    "    # this locator puts ticks at regular intervals\n",
    "    loc = ticker.MultipleLocator(base=0.2)\n",
    "    ax.yaxis.set_major_locator(loc)\n",
    "    plt.plot(points)"
   ]
  },
  {
   "cell_type": "code",
   "execution_count": 16,
   "metadata": {},
   "outputs": [],
   "source": [
    "def train_epoch(dataloader, encoder, decoder, encoder_optimizer,\n",
    "          decoder_optimizer, criterion):\n",
    "\n",
    "    total_loss = 0\n",
    "    for data in dataloader:\n",
    "        input_tensor, target_tensor = data\n",
    "\n",
    "        encoder_optimizer.zero_grad()\n",
    "        decoder_optimizer.zero_grad()\n",
    "\n",
    "        encoder_outputs, encoder_hidden = encoder(input_tensor)\n",
    "        decoder_outputs, _, _ = decoder(encoder_outputs, encoder_hidden, target_tensor)\n",
    "\n",
    "        loss = criterion(\n",
    "            decoder_outputs.view(-1, decoder_outputs.size(-1)),\n",
    "            target_tensor.view(-1)\n",
    "        )\n",
    "        loss.backward()\n",
    "\n",
    "        encoder_optimizer.step()\n",
    "        decoder_optimizer.step()\n",
    "\n",
    "        total_loss += loss.item()\n",
    "\n",
    "    return total_loss / len(dataloader)"
   ]
  },
  {
   "cell_type": "code",
   "execution_count": 17,
   "metadata": {},
   "outputs": [],
   "source": [
    "from tqdm import tqdm\n",
    "\n",
    "def train(train_dataloader, encoder, decoder, n_epochs, learning_rate=0.001,\n",
    "               print_every=100, plot_every=100):\n",
    "    start = time.time()\n",
    "    plot_losses = []\n",
    "    print_loss_total = 0  # Reset every print_every\n",
    "    plot_loss_total = 0  # Reset every plot_every\n",
    "\n",
    "    encoder_optimizer = optim.Adam(encoder.parameters(), lr=learning_rate)\n",
    "    decoder_optimizer = optim.Adam(decoder.parameters(), lr=learning_rate)\n",
    "    criterion = nn.NLLLoss()\n",
    "\n",
    "    for epoch in tqdm(range(1, n_epochs + 1), desc='Training', unit='epoch', total=n_epochs):\n",
    "        loss = train_epoch(train_dataloader, encoder, decoder, encoder_optimizer, decoder_optimizer, criterion)\n",
    "        print_loss_total += loss\n",
    "        plot_loss_total += loss\n",
    "\n",
    "        if epoch % print_every == 0:\n",
    "            print_loss_avg = print_loss_total / print_every\n",
    "            print_loss_total = 0\n",
    "            print('%s (%d %d%%) %.4f' % (timeSince(start, epoch / n_epochs),\n",
    "                                        epoch, epoch / n_epochs * 100, print_loss_avg))\n",
    "\n",
    "        if epoch % plot_every == 0:\n",
    "            plot_loss_avg = plot_loss_total / plot_every\n",
    "            plot_losses.append(plot_loss_avg)\n",
    "            plot_loss_total = 0\n",
    "\n",
    "    showPlot(plot_losses)"
   ]
  },
  {
   "cell_type": "code",
   "execution_count": 18,
   "metadata": {},
   "outputs": [],
   "source": [
    "def evaluate(encoder, decoder, sentence, input_lang, output_lang):\n",
    "    with torch.no_grad():\n",
    "        input_tensor = tensorFromSentence(input_lang, sentence)\n",
    "\n",
    "        encoder_outputs, encoder_hidden = encoder(input_tensor)\n",
    "        decoder_outputs, decoder_hidden, decoder_attn = decoder(encoder_outputs, encoder_hidden)\n",
    "\n",
    "        _, topi = decoder_outputs.topk(1)\n",
    "        decoded_ids = topi.squeeze()\n",
    "\n",
    "        decoded_words = []\n",
    "        for idx in decoded_ids:\n",
    "            if idx.item() == EOS_token:\n",
    "                decoded_words.append('<EOS>')\n",
    "                break\n",
    "            decoded_words.append(output_lang.index2word[idx.item()])\n",
    "    return decoded_words, decoder_attn"
   ]
  },
  {
   "cell_type": "code",
   "execution_count": 19,
   "metadata": {},
   "outputs": [],
   "source": [
    "def evaluateRandomly(encoder, decoder, n=10):\n",
    "    for i in range(n):\n",
    "        pair = random.choice(pairs)\n",
    "        print('>', pair[0])\n",
    "        print('=', pair[1])\n",
    "        output_words, _ = evaluate(encoder, decoder, pair[0], input_lang, output_lang)\n",
    "        output_sentence = ' '.join(output_words)\n",
    "        print('<', output_sentence)\n",
    "        print('')"
   ]
  },
  {
   "cell_type": "code",
   "execution_count": 20,
   "metadata": {},
   "outputs": [
    {
     "name": "stdout",
     "output_type": "stream",
     "text": [
      "Reading lines...\n",
      "Read 135842 sentence pairs\n",
      "Trimmed to 11445 sentence pairs\n",
      "Counting words...\n",
      "Counted words:\n",
      "fra 4601\n",
      "eng 2991\n"
     ]
    }
   ],
   "source": [
    "from torchinfo import summary\n",
    "\n",
    "hidden_size = 128\n",
    "batch_size = 32\n",
    "\n",
    "input_lang, output_lang, train_dataloader = get_dataloader(batch_size)"
   ]
  },
  {
   "cell_type": "code",
   "execution_count": 21,
   "metadata": {},
   "outputs": [],
   "source": [
    "encoder = EncoderRNN(input_lang.n_words, hidden_size).to(device)\n",
    "decoder = AttnDecoderRNN(hidden_size, output_lang.n_words).to(device)\n"
   ]
  },
  {
   "cell_type": "code",
   "execution_count": 22,
   "metadata": {},
   "outputs": [
    {
     "name": "stdout",
     "output_type": "stream",
     "text": [
      "torch.Size([32, 10]) torch.Size([32, 10])\n"
     ]
    },
    {
     "data": {
      "text/plain": [
       "========================================================================================================================\n",
       "Layer (type:depth-idx)                   Input Shape          Output Shape         Param #              Param %\n",
       "========================================================================================================================\n",
       "EncoderRNN                               [32, 10]             [32, 10, 128]        --                        --\n",
       "├─Embedding: 1-1                         [32, 10]             [32, 10, 128]        588,928               85.60%\n",
       "├─Dropout: 1-2                           [32, 10, 128]        [32, 10, 128]        --                        --\n",
       "├─GRU: 1-3                               [32, 10, 128]        [32, 10, 128]        99,072                14.40%\n",
       "========================================================================================================================\n",
       "Total params: 688,000\n",
       "Trainable params: 688,000\n",
       "Non-trainable params: 0\n",
       "Total mult-adds (M): 50.55\n",
       "========================================================================================================================\n",
       "Input size (MB): 0.00\n",
       "Forward/backward pass size (MB): 0.66\n",
       "Params size (MB): 2.75\n",
       "Estimated Total Size (MB): 3.41\n",
       "========================================================================================================================"
      ]
     },
     "execution_count": 22,
     "metadata": {},
     "output_type": "execute_result"
    }
   ],
   "source": [
    "input_ids, target_ids = next(iter(train_dataloader))\n",
    "print(input_ids.size(), input_ids.shape)\n",
    "summary(encoder, input_data=input_ids, \n",
    "        col_names=[\"input_size\", \"output_size\", \"num_params\", \"params_percent\",], \n",
    "        # verbose=2,\n",
    "        col_width=20)"
   ]
  },
  {
   "cell_type": "code",
   "execution_count": 23,
   "metadata": {},
   "outputs": [
    {
     "name": "stdout",
     "output_type": "stream",
     "text": [
      "torch.Size([32, 10, 128]) torch.Size([1, 32, 128]) torch.Size([32, 10])\n"
     ]
    },
    {
     "data": {
      "text/plain": [
       "========================================================================================================================\n",
       "Layer (type:depth-idx)                   Input Shape          Output Shape         Param #              Param %\n",
       "========================================================================================================================\n",
       "AttnDecoderRNN                           [32, 10, 128]        [32, 10, 2991]       --                        --\n",
       "├─Embedding: 1-1                         [32, 1]              [32, 1, 128]         382,848               40.30%\n",
       "├─Dropout: 1-2                           [32, 1, 128]         [32, 1, 128]         --                        --\n",
       "├─BahdanauAttention: 1-3                 [32, 1, 128]         [32, 1, 128]         --                        --\n",
       "│    └─Linear: 2-1                       [32, 1, 128]         [32, 1, 128]         16,512                 1.74%\n",
       "│    └─Linear: 2-2                       [32, 10, 128]        [32, 10, 128]        16,512                 1.74%\n",
       "│    └─Linear: 2-3                       [32, 10, 128]        [32, 10, 1]          129                    0.01%\n",
       "├─GRU: 1-4                               [32, 1, 256]         [32, 1, 128]         148,224               15.60%\n",
       "├─Linear: 1-5                            [32, 1, 128]         [32, 1, 2991]        385,839               40.61%\n",
       "├─Embedding: 1-6                         [32, 1]              [32, 1, 128]         (recursive)          (recursive)\n",
       "├─Dropout: 1-7                           [32, 1, 128]         [32, 1, 128]         --                   (recursive)\n",
       "├─BahdanauAttention: 1-8                 [32, 1, 128]         [32, 1, 128]         (recursive)          (recursive)\n",
       "│    └─Linear: 2-4                       [32, 1, 128]         [32, 1, 128]         (recursive)          (recursive)\n",
       "│    └─Linear: 2-5                       [32, 10, 128]        [32, 10, 128]        (recursive)          (recursive)\n",
       "│    └─Linear: 2-6                       [32, 10, 128]        [32, 10, 1]          (recursive)          (recursive)\n",
       "├─GRU: 1-9                               [32, 1, 256]         [32, 1, 128]         (recursive)          (recursive)\n",
       "├─Linear: 1-10                           [32, 1, 128]         [32, 1, 2991]        (recursive)          (recursive)\n",
       "├─Embedding: 1-11                        [32, 1]              [32, 1, 128]         (recursive)          (recursive)\n",
       "├─Dropout: 1-12                          [32, 1, 128]         [32, 1, 128]         --                   (recursive)\n",
       "├─BahdanauAttention: 1-13                [32, 1, 128]         [32, 1, 128]         (recursive)          (recursive)\n",
       "│    └─Linear: 2-7                       [32, 1, 128]         [32, 1, 128]         (recursive)          (recursive)\n",
       "│    └─Linear: 2-8                       [32, 10, 128]        [32, 10, 128]        (recursive)          (recursive)\n",
       "│    └─Linear: 2-9                       [32, 10, 128]        [32, 10, 1]          (recursive)          (recursive)\n",
       "├─GRU: 1-14                              [32, 1, 256]         [32, 1, 128]         (recursive)          (recursive)\n",
       "├─Linear: 1-15                           [32, 1, 128]         [32, 1, 2991]        (recursive)          (recursive)\n",
       "├─Embedding: 1-16                        [32, 1]              [32, 1, 128]         (recursive)          (recursive)\n",
       "├─Dropout: 1-17                          [32, 1, 128]         [32, 1, 128]         --                   (recursive)\n",
       "├─BahdanauAttention: 1-18                [32, 1, 128]         [32, 1, 128]         (recursive)          (recursive)\n",
       "│    └─Linear: 2-10                      [32, 1, 128]         [32, 1, 128]         (recursive)          (recursive)\n",
       "│    └─Linear: 2-11                      [32, 10, 128]        [32, 10, 128]        (recursive)          (recursive)\n",
       "│    └─Linear: 2-12                      [32, 10, 128]        [32, 10, 1]          (recursive)          (recursive)\n",
       "├─GRU: 1-19                              [32, 1, 256]         [32, 1, 128]         (recursive)          (recursive)\n",
       "├─Linear: 1-20                           [32, 1, 128]         [32, 1, 2991]        (recursive)          (recursive)\n",
       "├─Embedding: 1-21                        [32, 1]              [32, 1, 128]         (recursive)          (recursive)\n",
       "├─Dropout: 1-22                          [32, 1, 128]         [32, 1, 128]         --                   (recursive)\n",
       "├─BahdanauAttention: 1-23                [32, 1, 128]         [32, 1, 128]         (recursive)          (recursive)\n",
       "│    └─Linear: 2-13                      [32, 1, 128]         [32, 1, 128]         (recursive)          (recursive)\n",
       "│    └─Linear: 2-14                      [32, 10, 128]        [32, 10, 128]        (recursive)          (recursive)\n",
       "│    └─Linear: 2-15                      [32, 10, 128]        [32, 10, 1]          (recursive)          (recursive)\n",
       "├─GRU: 1-24                              [32, 1, 256]         [32, 1, 128]         (recursive)          (recursive)\n",
       "├─Linear: 1-25                           [32, 1, 128]         [32, 1, 2991]        (recursive)          (recursive)\n",
       "├─Embedding: 1-26                        [32, 1]              [32, 1, 128]         (recursive)          (recursive)\n",
       "├─Dropout: 1-27                          [32, 1, 128]         [32, 1, 128]         --                   (recursive)\n",
       "├─BahdanauAttention: 1-28                [32, 1, 128]         [32, 1, 128]         (recursive)          (recursive)\n",
       "│    └─Linear: 2-16                      [32, 1, 128]         [32, 1, 128]         (recursive)          (recursive)\n",
       "│    └─Linear: 2-17                      [32, 10, 128]        [32, 10, 128]        (recursive)          (recursive)\n",
       "│    └─Linear: 2-18                      [32, 10, 128]        [32, 10, 1]          (recursive)          (recursive)\n",
       "├─GRU: 1-29                              [32, 1, 256]         [32, 1, 128]         (recursive)          (recursive)\n",
       "├─Linear: 1-30                           [32, 1, 128]         [32, 1, 2991]        (recursive)          (recursive)\n",
       "├─Embedding: 1-31                        [32, 1]              [32, 1, 128]         (recursive)          (recursive)\n",
       "├─Dropout: 1-32                          [32, 1, 128]         [32, 1, 128]         --                   (recursive)\n",
       "├─BahdanauAttention: 1-33                [32, 1, 128]         [32, 1, 128]         (recursive)          (recursive)\n",
       "│    └─Linear: 2-19                      [32, 1, 128]         [32, 1, 128]         (recursive)          (recursive)\n",
       "│    └─Linear: 2-20                      [32, 10, 128]        [32, 10, 128]        (recursive)          (recursive)\n",
       "│    └─Linear: 2-21                      [32, 10, 128]        [32, 10, 1]          (recursive)          (recursive)\n",
       "├─GRU: 1-34                              [32, 1, 256]         [32, 1, 128]         (recursive)          (recursive)\n",
       "├─Linear: 1-35                           [32, 1, 128]         [32, 1, 2991]        (recursive)          (recursive)\n",
       "├─Embedding: 1-36                        [32, 1]              [32, 1, 128]         (recursive)          (recursive)\n",
       "├─Dropout: 1-37                          [32, 1, 128]         [32, 1, 128]         --                   (recursive)\n",
       "├─BahdanauAttention: 1-38                [32, 1, 128]         [32, 1, 128]         (recursive)          (recursive)\n",
       "│    └─Linear: 2-22                      [32, 1, 128]         [32, 1, 128]         (recursive)          (recursive)\n",
       "│    └─Linear: 2-23                      [32, 10, 128]        [32, 10, 128]        (recursive)          (recursive)\n",
       "│    └─Linear: 2-24                      [32, 10, 128]        [32, 10, 1]          (recursive)          (recursive)\n",
       "├─GRU: 1-39                              [32, 1, 256]         [32, 1, 128]         (recursive)          (recursive)\n",
       "├─Linear: 1-40                           [32, 1, 128]         [32, 1, 2991]        (recursive)          (recursive)\n",
       "├─Embedding: 1-41                        [32, 1]              [32, 1, 128]         (recursive)          (recursive)\n",
       "├─Dropout: 1-42                          [32, 1, 128]         [32, 1, 128]         --                   (recursive)\n",
       "├─BahdanauAttention: 1-43                [32, 1, 128]         [32, 1, 128]         (recursive)          (recursive)\n",
       "│    └─Linear: 2-25                      [32, 1, 128]         [32, 1, 128]         (recursive)          (recursive)\n",
       "│    └─Linear: 2-26                      [32, 10, 128]        [32, 10, 128]        (recursive)          (recursive)\n",
       "│    └─Linear: 2-27                      [32, 10, 128]        [32, 10, 1]          (recursive)          (recursive)\n",
       "├─GRU: 1-44                              [32, 1, 256]         [32, 1, 128]         (recursive)          (recursive)\n",
       "├─Linear: 1-45                           [32, 1, 128]         [32, 1, 2991]        (recursive)          (recursive)\n",
       "├─Embedding: 1-46                        [32, 1]              [32, 1, 128]         (recursive)          (recursive)\n",
       "├─Dropout: 1-47                          [32, 1, 128]         [32, 1, 128]         --                   (recursive)\n",
       "├─BahdanauAttention: 1-48                [32, 1, 128]         [32, 1, 128]         (recursive)          (recursive)\n",
       "│    └─Linear: 2-28                      [32, 1, 128]         [32, 1, 128]         (recursive)          (recursive)\n",
       "│    └─Linear: 2-29                      [32, 10, 128]        [32, 10, 128]        (recursive)          (recursive)\n",
       "│    └─Linear: 2-30                      [32, 10, 128]        [32, 10, 1]          (recursive)          (recursive)\n",
       "├─GRU: 1-49                              [32, 1, 256]         [32, 1, 128]         (recursive)          (recursive)\n",
       "├─Linear: 1-50                           [32, 1, 128]         [32, 1, 2991]        (recursive)          (recursive)\n",
       "========================================================================================================================\n",
       "Total params: 950,064\n",
       "Trainable params: 950,064\n",
       "Non-trainable params: 0\n",
       "Total mult-adds (M): 304.02\n",
       "========================================================================================================================\n",
       "Input size (MB): 0.18\n",
       "Forward/backward pass size (MB): 11.94\n",
       "Params size (MB): 3.80\n",
       "Estimated Total Size (MB): 15.93\n",
       "========================================================================================================================"
      ]
     },
     "execution_count": 23,
     "metadata": {},
     "output_type": "execute_result"
    }
   ],
   "source": [
    "encoder_outputs, encoder_hidden = encoder(input_ids)\n",
    "print(encoder_outputs.size(), encoder_hidden.size(), target_ids.size())\n",
    "summary(decoder, \n",
    "        input_data=(encoder_outputs, encoder_hidden, target_ids),\n",
    "        col_names=[\"input_size\", \"output_size\", \"num_params\", \"params_percent\",], \n",
    "        # verbose=2,\n",
    "        col_width=20)"
   ]
  },
  {
   "cell_type": "code",
   "execution_count": 24,
   "metadata": {},
   "outputs": [
    {
     "name": "stderr",
     "output_type": "stream",
     "text": [
      "Training:   6%|▋         | 5/80 [00:45<11:36,  9.29s/epoch]"
     ]
    },
    {
     "name": "stdout",
     "output_type": "stream",
     "text": [
      "0m 45s (- 11m 21s) (5 6%) 1.5273\n"
     ]
    },
    {
     "name": "stderr",
     "output_type": "stream",
     "text": [
      "Training:  12%|█▎        | 10/80 [01:32<11:08,  9.55s/epoch]"
     ]
    },
    {
     "name": "stdout",
     "output_type": "stream",
     "text": [
      "1m 33s (- 10m 51s) (10 12%) 0.6796\n"
     ]
    },
    {
     "name": "stderr",
     "output_type": "stream",
     "text": [
      "Training:  19%|█▉        | 15/80 [02:18<09:48,  9.05s/epoch]"
     ]
    },
    {
     "name": "stdout",
     "output_type": "stream",
     "text": [
      "2m 18s (- 10m 0s) (15 18%) 0.3500\n"
     ]
    },
    {
     "name": "stderr",
     "output_type": "stream",
     "text": [
      "Training:  25%|██▌       | 20/80 [03:03<08:14,  8.25s/epoch]"
     ]
    },
    {
     "name": "stdout",
     "output_type": "stream",
     "text": [
      "3m 3s (- 9m 10s) (20 25%) 0.1939\n"
     ]
    },
    {
     "name": "stderr",
     "output_type": "stream",
     "text": [
      "Training:  31%|███▏      | 25/80 [03:49<08:22,  9.13s/epoch]"
     ]
    },
    {
     "name": "stdout",
     "output_type": "stream",
     "text": [
      "3m 50s (- 8m 26s) (25 31%) 0.1194\n"
     ]
    },
    {
     "name": "stderr",
     "output_type": "stream",
     "text": [
      "Training:  38%|███▊      | 30/80 [04:45<09:06, 10.92s/epoch]"
     ]
    },
    {
     "name": "stdout",
     "output_type": "stream",
     "text": [
      "4m 45s (- 7m 56s) (30 37%) 0.0835\n"
     ]
    },
    {
     "name": "stderr",
     "output_type": "stream",
     "text": [
      "Training:  44%|████▍     | 35/80 [05:38<07:55, 10.56s/epoch]"
     ]
    },
    {
     "name": "stdout",
     "output_type": "stream",
     "text": [
      "5m 38s (- 7m 14s) (35 43%) 0.0643\n"
     ]
    },
    {
     "name": "stderr",
     "output_type": "stream",
     "text": [
      "Training:  50%|█████     | 40/80 [06:31<06:44, 10.11s/epoch]"
     ]
    },
    {
     "name": "stdout",
     "output_type": "stream",
     "text": [
      "6m 31s (- 6m 31s) (40 50%) 0.0525\n"
     ]
    },
    {
     "name": "stderr",
     "output_type": "stream",
     "text": [
      "Training:  56%|█████▋    | 45/80 [07:15<05:23,  9.23s/epoch]"
     ]
    },
    {
     "name": "stdout",
     "output_type": "stream",
     "text": [
      "7m 15s (- 5m 38s) (45 56%) 0.0458\n"
     ]
    },
    {
     "name": "stderr",
     "output_type": "stream",
     "text": [
      "Training:  62%|██████▎   | 50/80 [08:07<05:08, 10.27s/epoch]"
     ]
    },
    {
     "name": "stdout",
     "output_type": "stream",
     "text": [
      "8m 7s (- 4m 52s) (50 62%) 0.0403\n"
     ]
    },
    {
     "name": "stderr",
     "output_type": "stream",
     "text": [
      "Training:  69%|██████▉   | 55/80 [08:54<03:53,  9.35s/epoch]"
     ]
    },
    {
     "name": "stdout",
     "output_type": "stream",
     "text": [
      "8m 55s (- 4m 3s) (55 68%) 0.0377\n"
     ]
    },
    {
     "name": "stderr",
     "output_type": "stream",
     "text": [
      "Training:  75%|███████▌  | 60/80 [09:36<02:47,  8.36s/epoch]"
     ]
    },
    {
     "name": "stdout",
     "output_type": "stream",
     "text": [
      "9m 36s (- 3m 12s) (60 75%) 0.0347\n"
     ]
    },
    {
     "name": "stderr",
     "output_type": "stream",
     "text": [
      "Training:  81%|████████▏ | 65/80 [10:19<02:13,  8.89s/epoch]"
     ]
    },
    {
     "name": "stdout",
     "output_type": "stream",
     "text": [
      "10m 19s (- 2m 22s) (65 81%) 0.0331\n"
     ]
    },
    {
     "name": "stderr",
     "output_type": "stream",
     "text": [
      "Training:  88%|████████▊ | 70/80 [11:13<01:43, 10.32s/epoch]"
     ]
    },
    {
     "name": "stdout",
     "output_type": "stream",
     "text": [
      "11m 13s (- 1m 36s) (70 87%) 0.0312\n"
     ]
    },
    {
     "name": "stderr",
     "output_type": "stream",
     "text": [
      "Training:  94%|█████████▍| 75/80 [11:49<00:39,  7.82s/epoch]"
     ]
    },
    {
     "name": "stdout",
     "output_type": "stream",
     "text": [
      "11m 49s (- 0m 47s) (75 93%) 0.0303\n"
     ]
    },
    {
     "name": "stderr",
     "output_type": "stream",
     "text": [
      "Training: 100%|██████████| 80/80 [12:33<00:00,  9.41s/epoch]"
     ]
    },
    {
     "name": "stdout",
     "output_type": "stream",
     "text": [
      "12m 33s (- 0m 0s) (80 100%) 0.0288\n"
     ]
    },
    {
     "name": "stderr",
     "output_type": "stream",
     "text": [
      "\n"
     ]
    },
    {
     "data": {
      "text/plain": [
       "<Figure size 640x480 with 0 Axes>"
      ]
     },
     "metadata": {},
     "output_type": "display_data"
    },
    {
     "data": {
      "image/png": "[encoded data removed]",
      "text/plain": [
       "<Figure size 640x480 with 1 Axes>"
      ]
     },
     "metadata": {},
     "output_type": "display_data"
    }
   ],
   "source": [
    "train(train_dataloader, encoder, decoder, 80, print_every=5, plot_every=5)"
   ]
  },
  {
   "cell_type": "code",
   "execution_count": 25,
   "metadata": {},
   "outputs": [
    {
     "name": "stdout",
     "output_type": "stream",
     "text": [
      "> je suis myope\n",
      "= i m nearsighted\n",
      "< i m nearsighted <EOS>\n",
      "\n",
      "> ils sont vieux\n",
      "= they re old\n",
      "< they re old <EOS>\n",
      "\n",
      "> nous sommes toutes differentes\n",
      "= we re all different\n",
      "< we re all different ! <EOS>\n",
      "\n",
      "> vous etes sur la liste\n",
      "= you re on the list\n",
      "< you re on the list <EOS>\n",
      "\n",
      "> je saigne gravement\n",
      "= i m bleeding badly\n",
      "< i m bleeding badly <EOS>\n",
      "\n",
      "> il n est pas parfait\n",
      "= he isn t perfect\n",
      "< he s not perfect <EOS>\n",
      "\n",
      "> tu es egoiste\n",
      "= you re selfish\n",
      "< you re selfish <EOS>\n",
      "\n",
      "> aujourd hui elle va beaucoup mieux qu hier\n",
      "= she s much better today than yesterday\n",
      "< she s much better today than yesterday <EOS>\n",
      "\n",
      "> ils courent dans le parc\n",
      "= they are running in the park\n",
      "< they are running in the park <EOS>\n",
      "\n",
      "> je ne suis pas normal\n",
      "= i m not normal\n",
      "< i m not normal <EOS>\n",
      "\n"
     ]
    }
   ],
   "source": [
    "encoder.eval()\n",
    "decoder.eval()\n",
    "evaluateRandomly(encoder, decoder)"
   ]
  },
  {
   "cell_type": "code",
   "execution_count": 26,
   "metadata": {},
   "outputs": [],
   "source": [
    "def showAttention(input_sentence, output_words, attentions):\n",
    "    fig = plt.figure()\n",
    "    ax = fig.add_subplot(111)\n",
    "    cax = ax.matshow(attentions.cpu().numpy(), cmap='bone')\n",
    "    fig.colorbar(cax)\n",
    "\n",
    "    # Set up axes\n",
    "    ax.set_xticklabels([''] + input_sentence.split(' ') +\n",
    "                       ['<EOS>'], rotation=90)\n",
    "    ax.set_yticklabels([''] + output_words)\n",
    "\n",
    "    # Show label at every tick\n",
    "    ax.xaxis.set_major_locator(ticker.MultipleLocator(1))\n",
    "    ax.yaxis.set_major_locator(ticker.MultipleLocator(1))\n",
    "\n",
    "    plt.show()\n",
    "\n",
    "\n",
    "def evaluateAndShowAttention(input_sentence):\n",
    "    output_words, attentions = evaluate(encoder, decoder, input_sentence, input_lang, output_lang)\n",
    "    print('input =', input_sentence)\n",
    "    print('output =', ' '.join(output_words))\n",
    "    showAttention(input_sentence, output_words, attentions[0, :len(output_words), :])"
   ]
  },
  {
   "cell_type": "code",
   "execution_count": 27,
   "metadata": {},
   "outputs": [
    {
     "name": "stdout",
     "output_type": "stream",
     "text": [
      "input = il n est pas aussi grand que son pere\n",
      "output = he is not as tall as his father <EOS>\n"
     ]
    },
    {
     "name": "stderr",
     "output_type": "stream",
     "text": [
      "/tmp/ipykernel_6202/2731457559.py:8: UserWarning: FixedFormatter should only be used together with FixedLocator\n",
      "  ax.set_xticklabels([''] + input_sentence.split(' ') +\n",
      "/tmp/ipykernel_6202/2731457559.py:10: UserWarning: FixedFormatter should only be used together with FixedLocator\n",
      "  ax.set_yticklabels([''] + output_words)\n"
     ]
    },
    {
     "data": {
      "image/png": "[encoded data removed]",
      "text/plain": [
       "<Figure size 640x480 with 2 Axes>"
      ]
     },
     "metadata": {},
     "output_type": "display_data"
    }
   ],
   "source": [
    "evaluateAndShowAttention('il n est pas aussi grand que son pere')"
   ]
  },
  {
   "cell_type": "code",
   "execution_count": 28,
   "metadata": {},
   "outputs": [
    {
     "name": "stdout",
     "output_type": "stream",
     "text": [
      "input = je suis trop fatigue pour conduire\n",
      "output = i m too tired to drive <EOS>\n"
     ]
    },
    {
     "name": "stderr",
     "output_type": "stream",
     "text": [
      "/tmp/ipykernel_6202/2731457559.py:8: UserWarning: FixedFormatter should only be used together with FixedLocator\n",
      "  ax.set_xticklabels([''] + input_sentence.split(' ') +\n",
      "/tmp/ipykernel_6202/2731457559.py:10: UserWarning: FixedFormatter should only be used together with FixedLocator\n",
      "  ax.set_yticklabels([''] + output_words)\n"
     ]
    },
    {
     "data": {
      "image/png": "[encoded data removed]",
      "text/plain": [
       "<Figure size 640x480 with 2 Axes>"
      ]
     },
     "metadata": {},
     "output_type": "display_data"
    },
    {
     "name": "stdout",
     "output_type": "stream",
     "text": [
      "input = je suis desole si c est une question idiote\n",
      "output = i m sorry if this is a stupid question <EOS>\n"
     ]
    },
    {
     "data": {
      "image/png": "[encoded data removed]",
      "text/plain": [
       "<Figure size 640x480 with 2 Axes>"
      ]
     },
     "metadata": {},
     "output_type": "display_data"
    },
    {
     "name": "stdout",
     "output_type": "stream",
     "text": [
      "input = je suis reellement fiere de vous\n",
      "output = i m really proud of you <EOS>\n"
     ]
    },
    {
     "data": {
      "image/png": "[encoded data removed]",
      "text/plain": [
       "<Figure size 640x480 with 2 Axes>"
      ]
     },
     "metadata": {},
     "output_type": "display_data"
    }
   ],
   "source": [
    "evaluateAndShowAttention('je suis trop fatigue pour conduire')\n",
    "\n",
    "evaluateAndShowAttention('je suis desole si c est une question idiote')\n",
    "\n",
    "evaluateAndShowAttention('je suis reellement fiere de vous')"
   ]
  }
 ],
 "metadata": {
  "kernelspec": {
   "display_name": "Python 3",
   "language": "python",
   "name": "python3"
  },
  "language_info": {
   "codemirror_mode": {
    "name": "ipython",
    "version": 3
   },
   "file_extension": ".py",
   "mimetype": "text/x-python",
   "name": "python",
   "nbconvert_exporter": "python",
   "pygments_lexer": "ipython3",
   "version": "3.10.12"
  }
 },
 "nbformat": 4,
 "nbformat_minor": 2
}
