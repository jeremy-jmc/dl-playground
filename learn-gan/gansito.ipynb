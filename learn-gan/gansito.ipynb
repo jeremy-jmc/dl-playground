{
 "cells": [
  {
   "cell_type": "code",
   "execution_count": 1,
   "id": "c4ba0b14",
   "metadata": {
    "_cell_guid": "b1076dfc-b9ad-4769-8c92-a6c4dae69d19",
    "_uuid": "8f2839f25d086af736a60e9eeb907d3b93b6e0e5",
    "execution": {
     "iopub.execute_input": "2024-10-11T04:57:27.600342Z",
     "iopub.status.busy": "2024-10-11T04:57:27.599658Z",
     "iopub.status.idle": "2024-10-11T04:57:48.141321Z",
     "shell.execute_reply": "2024-10-11T04:57:48.140381Z"
    },
    "papermill": {
     "duration": 20.549262,
     "end_time": "2024-10-11T04:57:48.143544",
     "exception": false,
     "start_time": "2024-10-11T04:57:27.594282",
     "status": "completed"
    },
    "tags": []
   },
   "outputs": [
    {
     "name": "stdout",
     "output_type": "stream",
     "text": [
      "Número de GPUs disponibles: 2\n"
     ]
    }
   ],
   "source": [
    "import torch\n",
    "import torch.nn as nn\n",
    "import torch.optim as optim\n",
    "import torchvision\n",
    "import torchvision.datasets as datasets\n",
    "import torchvision.transforms as transforms\n",
    "from torch.utils.data import DataLoader\n",
    "from torch.utils.tensorboard import SummaryWriter\n",
    "from tqdm import tqdm\n",
    "from torchinfo import summary\n",
    "\n",
    "\n",
    "import timm\n",
    "from sklearn.model_selection import train_test_split\n",
    "import matplotlib.pyplot as plt\n",
    "import numpy as np\n",
    "import glob\n",
    "import os\n",
    "import pandas as pd\n",
    "import warnings\n",
    "import random\n",
    "from IPython.display import display\n",
    "warnings.filterwarnings(\"ignore\")\n",
    "warnings.filterwarnings(\"ignore\", category=UserWarning, module=\"matplotlib\")\n",
    "\n",
    "\n",
    "device = torch.device('cuda' if torch.cuda.is_available() else 'cpu')\n",
    "\n",
    "# Set seed\n",
    "seed = 42\n",
    "torch.manual_seed(seed)\n",
    "random.seed(seed)\n",
    "np.random.seed(seed)\n",
    "# torch.use_deterministic_algorithms(True)\n",
    "# torch.backends.cudnn.deterministic = True\n",
    "# torch.backends.cudnn.benchmark = False\n",
    "\n",
    "# -----------------------------------------------------------------------------\n",
    "# Global variables\n",
    "# -----------------------------------------------------------------------------\n",
    "\n",
    "LEARNING_RATE = 1e-4\n",
    "BATCH_SIZE = 1024\n",
    "IMAGE_SIZE = 64\n",
    "CHANNELS_IMG = 3\n",
    "Z_DIM = 100\n",
    "NUM_EPOCHS = 5\n",
    "FEATURES_CRITIC = 16\n",
    "FEATURES_GEN = 16\n",
    "CRITIC_ITERATIONS = 5\n",
    "LAMBDA_GP = 10\n",
    "\n",
    "DATA_PATH = '/kaggle/input/2-deep-learning-cs-5364-lab-1-nivel-1'\n",
    "\n",
    "N_GPU = torch.cuda.device_count() if torch.cuda.is_available() else 0\n",
    "print(f\"Número de GPUs disponibles: {N_GPU}\")\n",
    "\n",
    "CKPT_PATH = \"checkpoint.pth.tar\""
   ]
  },
  {
   "cell_type": "code",
   "execution_count": 2,
   "id": "eff94418",
   "metadata": {
    "execution": {
     "iopub.execute_input": "2024-10-11T04:57:48.152405Z",
     "iopub.status.busy": "2024-10-11T04:57:48.151813Z",
     "iopub.status.idle": "2024-10-11T04:57:51.702490Z",
     "shell.execute_reply": "2024-10-11T04:57:51.701437Z"
    },
    "papermill": {
     "duration": 3.557579,
     "end_time": "2024-10-11T04:57:51.704741",
     "exception": false,
     "start_time": "2024-10-11T04:57:48.147162",
     "status": "completed"
    },
    "tags": []
   },
   "outputs": [
    {
     "name": "stdout",
     "output_type": "stream",
     "text": [
      "(170000, 3)\n",
      "Label\n",
      "0     5000\n",
      "1     5000\n",
      "2     5000\n",
      "3     5000\n",
      "4     5000\n",
      "5     5000\n",
      "6     5000\n",
      "7     5000\n",
      "8     5000\n",
      "9     5000\n",
      "10    5923\n",
      "11    6742\n",
      "12    5958\n",
      "13    6131\n",
      "14    5842\n",
      "15    5421\n",
      "16    5918\n",
      "17    6265\n",
      "18    5851\n",
      "19    5949\n",
      "20    6000\n",
      "21    6000\n",
      "22    6000\n",
      "23    6000\n",
      "24    6000\n",
      "25    6000\n",
      "26    6000\n",
      "27    6000\n",
      "28    6000\n",
      "29    6000\n",
      "Name: count, dtype: int64\n",
      "170000\n",
      "136000 34000\n"
     ]
    },
    {
     "data": {
      "image/png": "[encoded data removed]",
      "text/plain": [
       "<Figure size 1500x500 with 3 Axes>"
      ]
     },
     "metadata": {},
     "output_type": "display_data"
    }
   ],
   "source": [
    "\n",
    "# -----------------------------------------------------------------------------\n",
    "# Analyze dataset\n",
    "# -----------------------------------------------------------------------------\n",
    "\n",
    "train_dataset = pd.concat([\n",
    "    pd.read_csv(f'{DATA_PATH}/train_1.csv').assign(dataset='train_1'),\n",
    "    pd.read_csv(f'{DATA_PATH}/train_2.csv').assign(dataset='train_2'),\n",
    "    pd.read_csv(f'{DATA_PATH}/train_3.csv').assign(dataset='train_3'),\n",
    "], ignore_index=True)\n",
    "\n",
    "print(train_dataset.shape)\n",
    "\n",
    "train_dataset['ImageId'] = train_dataset['ImageId'].apply(lambda x: x + '.png' if not x.endswith('.png') else x)\n",
    "train_dataset['Path'] = train_dataset.apply(\n",
    "    lambda x: f'{DATA_PATH}/NIVEL1/NIVEL1/TRAIN/{x[\"dataset\"]}/{x[\"ImageId\"]}', axis=1\n",
    ")\n",
    "\n",
    "train_1 = train_dataset[train_dataset['dataset'] == 'train_1']\n",
    "train_2 = train_dataset[train_dataset['dataset'] == 'train_2']\n",
    "train_3 = train_dataset[train_dataset['dataset'] == 'train_3']\n",
    "\n",
    "print(train_dataset['Label'].value_counts().sort_index())\n",
    "# print(train_dataset['Label'].value_counts(normalize=True).sort_index())\n",
    "\n",
    "def split_data(data):\n",
    "    train, val = train_test_split(data, test_size=0.2, random_state=seed, stratify=data['Label'])\n",
    "    return train, val\n",
    "\n",
    "# each folder is one of MNIST, CIFAR10, FASHION MNIST\n",
    "train_1_train, train_1_val = split_data(train_1)\n",
    "train_2_train, train_2_val = split_data(train_2)\n",
    "train_3_train, train_3_val = split_data(train_3)\n",
    "\n",
    "train_df = pd.concat([train_1_train, train_2_train, train_3_train]).reset_index(drop=True)\n",
    "val_df = pd.concat([train_1_val, train_2_val, train_3_val]).reset_index(drop=True)\n",
    "\n",
    "print(len(train_dataset))\n",
    "print(len(train_df), len(val_df))\n",
    "\n",
    "# -----------------------------------------------------------------------------\n",
    "# Plot sample of each dataset\n",
    "# -----------------------------------------------------------------------------\n",
    "\n",
    "fig, axs = plt.subplots(1, 3, figsize=(15, 5))\n",
    "for i, dataset in enumerate(train_dataset['dataset'].unique()):\n",
    "    img_row = train_dataset[train_dataset['dataset'] == dataset].sample(1)\n",
    "    # print(img_row['Path'].values[0])\n",
    "    # img_path = f\"{DATA_PATH}/NIVEL1/NIVEL1/TRAIN/{img_row[2]}/{img_row[0]}\"\n",
    "    img_path = img_row['Path'].values[0]\n",
    "    img_label = img_row['Label'].values[0]\n",
    "    # print(img_path)\n",
    "    image = plt.imread(img_path)\n",
    "    axs[i].imshow(image)\n",
    "    axs[i].set_title(dataset + ' - ' + image.shape.__str__())\n",
    "    axs[i].axis('off')\n",
    "plt.show()\n",
    "\n"
   ]
  },
  {
   "cell_type": "code",
   "execution_count": 3,
   "id": "3a3b9e9d",
   "metadata": {
    "execution": {
     "iopub.execute_input": "2024-10-11T04:57:51.715095Z",
     "iopub.status.busy": "2024-10-11T04:57:51.714607Z",
     "iopub.status.idle": "2024-10-11T04:57:51.888193Z",
     "shell.execute_reply": "2024-10-11T04:57:51.887096Z"
    },
    "papermill": {
     "duration": 0.181794,
     "end_time": "2024-10-11T04:57:51.890693",
     "exception": false,
     "start_time": "2024-10-11T04:57:51.708899",
     "status": "completed"
    },
    "tags": []
   },
   "outputs": [
    {
     "name": "stdout",
     "output_type": "stream",
     "text": [
      "(tensor([[[-1., -1., -1.,  ..., -1., -1., -1.],\n",
      "         [-1., -1., -1.,  ..., -1., -1., -1.],\n",
      "         [-1., -1., -1.,  ..., -1., -1., -1.],\n",
      "         ...,\n",
      "         [-1., -1., -1.,  ..., -1., -1., -1.],\n",
      "         [-1., -1., -1.,  ..., -1., -1., -1.],\n",
      "         [-1., -1., -1.,  ..., -1., -1., -1.]],\n",
      "\n",
      "        [[-1., -1., -1.,  ..., -1., -1., -1.],\n",
      "         [-1., -1., -1.,  ..., -1., -1., -1.],\n",
      "         [-1., -1., -1.,  ..., -1., -1., -1.],\n",
      "         ...,\n",
      "         [-1., -1., -1.,  ..., -1., -1., -1.],\n",
      "         [-1., -1., -1.,  ..., -1., -1., -1.],\n",
      "         [-1., -1., -1.,  ..., -1., -1., -1.]],\n",
      "\n",
      "        [[-1., -1., -1.,  ..., -1., -1., -1.],\n",
      "         [-1., -1., -1.,  ..., -1., -1., -1.],\n",
      "         [-1., -1., -1.,  ..., -1., -1., -1.],\n",
      "         ...,\n",
      "         [-1., -1., -1.,  ..., -1., -1., -1.],\n",
      "         [-1., -1., -1.,  ..., -1., -1., -1.],\n",
      "         [-1., -1., -1.,  ..., -1., -1., -1.]]]), 12)\n",
      "(tensor([[[0.4039, 0.4020, 0.3980,  ..., 0.4196, 0.4196, 0.4196],\n",
      "         [0.4000, 0.3975, 0.3926,  ..., 0.4157, 0.4157, 0.4157],\n",
      "         [0.3922, 0.3887, 0.3819,  ..., 0.4078, 0.4078, 0.4078],\n",
      "         ...,\n",
      "         [0.3059, 0.3020, 0.2941,  ..., 0.3804, 0.3804, 0.3804],\n",
      "         [0.3608, 0.3608, 0.3608,  ..., 0.3804, 0.3804, 0.3804],\n",
      "         [0.3882, 0.3902, 0.3941,  ..., 0.3804, 0.3804, 0.3804]],\n",
      "\n",
      "        [[0.6235, 0.6196, 0.6118,  ..., 0.6314, 0.6314, 0.6314],\n",
      "         [0.6176, 0.6137, 0.6059,  ..., 0.6275, 0.6275, 0.6275],\n",
      "         [0.6059, 0.6020, 0.5941,  ..., 0.6196, 0.6196, 0.6196],\n",
      "         ...,\n",
      "         [0.4902, 0.4735, 0.4402,  ..., 0.5922, 0.5922, 0.5922],\n",
      "         [0.5529, 0.5461, 0.5324,  ..., 0.5922, 0.5922, 0.5922],\n",
      "         [0.5843, 0.5824, 0.5784,  ..., 0.5922, 0.5922, 0.5922]],\n",
      "\n",
      "        [[0.8510, 0.8471, 0.8392,  ..., 0.8667, 0.8667, 0.8667],\n",
      "         [0.8451, 0.8412, 0.8333,  ..., 0.8603, 0.8593, 0.8588],\n",
      "         [0.8333, 0.8294, 0.8216,  ..., 0.8475, 0.8446, 0.8431],\n",
      "         ...,\n",
      "         [0.7000, 0.6730, 0.6191,  ..., 0.8196, 0.8196, 0.8196],\n",
      "         [0.7745, 0.7603, 0.7319,  ..., 0.8196, 0.8196, 0.8196],\n",
      "         [0.8118, 0.8039, 0.7882,  ..., 0.8196, 0.8196, 0.8196]]]), 2)\n"
     ]
    }
   ],
   "source": [
    "\n",
    "# -----------------------------------------------------------------------------\n",
    "# Create dataset\n",
    "# -----------------------------------------------------------------------------\n",
    "\n",
    "transform = transforms.Compose([\n",
    "    transforms.ToTensor(),\n",
    "    transforms.Resize((IMAGE_SIZE, IMAGE_SIZE)),\n",
    "    # transforms.RandomResizedCrop(IMAGE_SIZE),\n",
    "    # transforms.RandomHorizontalFlip(p=0.5),\n",
    "    # transforms.RandomVerticalFlip(p=0.5),\n",
    "    # transforms.ColorJitter(brightness=0.4, contrast=0.4, saturation=0.4, hue=0.4),\n",
    "    # TODO: CIFAR10, MNIST, FASHION MNIST Normalization\n",
    "    transforms.Normalize((0.5, 0.5, 0.5), (0.5, 0.5, 0.5)),\n",
    "])\n",
    "\n",
    "transform_val = transforms.Compose([\n",
    "    transforms.ToTensor(),\n",
    "    transforms.Resize((IMAGE_SIZE, IMAGE_SIZE)),\n",
    "    # transforms.RandomResizedCrop(IMAGE_SIZE),\n",
    "    # transforms.RandomHorizontalFlip(p=0.5),\n",
    "    # transforms.RandomVerticalFlip(p=0.5),\n",
    "    # transforms.ColorJitter(brightness=0.4, contrast=0.4, saturation=0.4, hue=0.4),\n",
    "    # TODO: CIFAR10, MNIST, FASHION MNIST Normalization\n",
    "     transforms.Normalize((0.5, 0.5, 0.5), (0.5, 0.5, 0.5)),\n",
    "])\n",
    "\n",
    "\n",
    "class NivelDataset(torch.utils.data.Dataset):\n",
    "    def __init__(self, dataframe, transform=None):\n",
    "        self.dataframe = dataframe\n",
    "        self.transform = transform\n",
    "\n",
    "    def __len__(self):\n",
    "        return len(self.dataframe)\n",
    "\n",
    "    def __getitem__(self, idx):\n",
    "        img_row = self.dataframe.iloc[idx]\n",
    "        # img_path = f\"{DATA_PATH}/NIVEL1/NIVEL1/TRAIN/{img_row[2]}/{img_row[0]}\"\n",
    "        img_path = img_row['Path']\n",
    "\n",
    "        image = plt.imread(img_path)\n",
    "        label = self.dataframe.iloc[idx, 1]\n",
    "\n",
    "        # * if image only have 1 channel, convert to 3 channels\n",
    "        if len(image.shape) == 2:\n",
    "            image = np.stack((image,) * 3, axis=-1)\n",
    "        # print(img_path, type(image), image.shape, label)\n",
    "\n",
    "        # * apply transformations\n",
    "        if self.transform is not None:\n",
    "            image = self.transform(image)\n",
    "\n",
    "        return image, label\n",
    "\n",
    "train_set = NivelDataset(train_df.sample(frac=1).reset_index(drop=True), transform=transform)\n",
    "# test_set = Nivel1Dataset(test_dataset, transform=transform)\n",
    "val_set = NivelDataset(val_df, transform=transform_val)\n",
    "\n",
    "print(train_set[0])\n",
    "# print(test_set[0])\n",
    "print(val_set[0])\n",
    "\n"
   ]
  },
  {
   "cell_type": "code",
   "execution_count": 4,
   "id": "839885b8",
   "metadata": {
    "execution": {
     "iopub.execute_input": "2024-10-11T04:57:51.900388Z",
     "iopub.status.busy": "2024-10-11T04:57:51.900071Z",
     "iopub.status.idle": "2024-10-11T04:57:59.679100Z",
     "shell.execute_reply": "2024-10-11T04:57:59.678044Z"
    },
    "papermill": {
     "duration": 7.7864,
     "end_time": "2024-10-11T04:57:59.681372",
     "exception": false,
     "start_time": "2024-10-11T04:57:51.894972",
     "status": "completed"
    },
    "tags": []
   },
   "outputs": [
    {
     "name": "stdout",
     "output_type": "stream",
     "text": [
      "133 34\n",
      "torch.Size([1024, 3, 64, 64]) torch.Size([1024])\n",
      "torch.Size([1024, 3, 64, 64]) torch.Size([1024])\n"
     ]
    }
   ],
   "source": [
    "\n",
    "# -----------------------------------------------------------------------------\n",
    "# Create data loaders\n",
    "# -----------------------------------------------------------------------------\n",
    "\n",
    "train_loader = torch.utils.data.DataLoader(train_set, batch_size=BATCH_SIZE, shuffle=False)\n",
    "val_loader = torch.utils.data.DataLoader(val_set, batch_size=BATCH_SIZE, shuffle=False)\n",
    "\n",
    "print(len(train_loader), len(val_loader))\n",
    "\n",
    "img, label = next(iter(train_loader))\n",
    "print(img.shape, label.shape)\n",
    "\n",
    "for data in train_loader:\n",
    "    imgs, labels = data\n",
    "    print(imgs.shape, labels.shape)\n",
    "    break\n",
    "\n"
   ]
  },
  {
   "cell_type": "code",
   "execution_count": 5,
   "id": "451ac4f4",
   "metadata": {
    "execution": {
     "iopub.execute_input": "2024-10-11T04:57:59.691897Z",
     "iopub.status.busy": "2024-10-11T04:57:59.691581Z",
     "iopub.status.idle": "2024-10-11T04:57:59.700524Z",
     "shell.execute_reply": "2024-10-11T04:57:59.699754Z"
    },
    "papermill": {
     "duration": 0.016488,
     "end_time": "2024-10-11T04:57:59.702467",
     "exception": false,
     "start_time": "2024-10-11T04:57:59.685979",
     "status": "completed"
    },
    "tags": []
   },
   "outputs": [],
   "source": [
    "def gradient_penalty(critic, real, fake, device=\"cpu\"):\n",
    "    BATCH_SIZE, C, H, W = real.shape\n",
    "    alpha = torch.rand((BATCH_SIZE, 1, 1, 1)).repeat(1, C, H, W).to(device)\n",
    "    interpolated_images = real * alpha + fake * (1 - alpha)\n",
    "\n",
    "    # Calculate critic scores\n",
    "    mixed_scores = critic(interpolated_images)\n",
    "\n",
    "    # Take the gradient of the scores with respect to the images\n",
    "    gradient = torch.autograd.grad(\n",
    "        inputs=interpolated_images,\n",
    "        outputs=mixed_scores,\n",
    "        grad_outputs=torch.ones_like(mixed_scores),\n",
    "        create_graph=True,\n",
    "        retain_graph=True,\n",
    "    )[0]\n",
    "    gradient = gradient.view(gradient.shape[0], -1)\n",
    "    gradient_norm = gradient.norm(2, dim=1)\n",
    "    gradient_penalty = torch.mean((gradient_norm - 1) ** 2)\n",
    "    return gradient_penalty\n",
    "\n",
    "\n",
    "def save_checkpoint(state, filename=\"celeba_wgan_gp.pth.tar\"):\n",
    "    print(\"=> Saving checkpoint\")\n",
    "    torch.save(state, filename)\n",
    "\n",
    "\n",
    "def load_checkpoint(checkpoint, gen, disc):\n",
    "    print(\"=> Loading checkpoint\")\n",
    "    gen.load_state_dict(checkpoint['gen'])\n",
    "    disc.load_state_dict(checkpoint['disc'])\n"
   ]
  },
  {
   "cell_type": "code",
   "execution_count": 6,
   "id": "b3550b62",
   "metadata": {
    "execution": {
     "iopub.execute_input": "2024-10-11T04:57:59.712853Z",
     "iopub.status.busy": "2024-10-11T04:57:59.712563Z",
     "iopub.status.idle": "2024-10-11T04:57:59.726701Z",
     "shell.execute_reply": "2024-10-11T04:57:59.725820Z"
    },
    "papermill": {
     "duration": 0.021824,
     "end_time": "2024-10-11T04:57:59.728747",
     "exception": false,
     "start_time": "2024-10-11T04:57:59.706923",
     "status": "completed"
    },
    "tags": []
   },
   "outputs": [],
   "source": [
    "\n",
    "class Discriminator(nn.Module):\n",
    "    def __init__(self, channels_img, features_d):\n",
    "        super(Discriminator, self).__init__()\n",
    "        self.disc = nn.Sequential(\n",
    "            # input: N x channels_img x 64 x 64\n",
    "            nn.Conv2d(channels_img, features_d, kernel_size=4, stride=2, padding=1),\n",
    "            nn.LeakyReLU(0.2),\n",
    "            # _block(in_channels, out_channels, kernel_size, stride, padding)\n",
    "            self._block(features_d, features_d * 2, 4, 2, 1),\n",
    "            self._block(features_d * 2, features_d * 4, 4, 2, 1),\n",
    "            self._block(features_d * 4, features_d * 8, 4, 2, 1),\n",
    "            # After all _block img output is 4x4 (Conv2d below makes into 1x1)\n",
    "            nn.Conv2d(features_d * 8, 1, kernel_size=4, stride=2, padding=0),\n",
    "        )\n",
    "\n",
    "    def _block(self, in_channels, out_channels, kernel_size, stride, padding):\n",
    "        return nn.Sequential(\n",
    "            nn.Conv2d(\n",
    "                in_channels,\n",
    "                out_channels,\n",
    "                kernel_size,\n",
    "                stride,\n",
    "                padding,\n",
    "                bias=False,\n",
    "            ),\n",
    "            nn.InstanceNorm2d(out_channels, affine=True),\n",
    "            nn.LeakyReLU(0.2),\n",
    "        )\n",
    "\n",
    "    def forward(self, x):\n",
    "        return self.disc(x)\n",
    "\n",
    "\n",
    "class Generator(nn.Module):\n",
    "    def __init__(self, channels_noise, channels_img, features_g):\n",
    "        super(Generator, self).__init__()\n",
    "        self.net = nn.Sequential(\n",
    "            # Input: N x channels_noise x 1 x 1\n",
    "            self._block(channels_noise, features_g * 16, 4, 1, 0),  # img: 4x4\n",
    "            self._block(features_g * 16, features_g * 8, 4, 2, 1),  # img: 8x8\n",
    "            self._block(features_g * 8, features_g * 4, 4, 2, 1),  # img: 16x16\n",
    "            self._block(features_g * 4, features_g * 2, 4, 2, 1),  # img: 32x32\n",
    "            nn.ConvTranspose2d(\n",
    "                features_g * 2, channels_img, kernel_size=4, stride=2, padding=1\n",
    "            ),\n",
    "            # Output: N x channels_img x 64 x 64\n",
    "            nn.Tanh(),\n",
    "        )\n",
    "\n",
    "    def _block(self, in_channels, out_channels, kernel_size, stride, padding):\n",
    "        return nn.Sequential(\n",
    "            nn.ConvTranspose2d(\n",
    "                in_channels,\n",
    "                out_channels,\n",
    "                kernel_size,\n",
    "                stride,\n",
    "                padding,\n",
    "                bias=False,\n",
    "            ),\n",
    "            nn.BatchNorm2d(out_channels),\n",
    "            nn.ReLU(),\n",
    "        )\n",
    "\n",
    "    def forward(self, x):\n",
    "        return self.net(x)\n",
    "\n",
    "\n",
    "def initialize_weights(model):\n",
    "    # Initializes weights according to the DCGAN paper\n",
    "    for m in model.modules():\n",
    "        if isinstance(m, (nn.Conv2d, nn.ConvTranspose2d, nn.BatchNorm2d)):\n",
    "            nn.init.normal_(m.weight.data, 0.0, 0.02)\n",
    "\n"
   ]
  },
  {
   "cell_type": "code",
   "execution_count": 7,
   "id": "f40dbe66",
   "metadata": {
    "execution": {
     "iopub.execute_input": "2024-10-11T04:57:59.740100Z",
     "iopub.status.busy": "2024-10-11T04:57:59.739753Z",
     "iopub.status.idle": "2024-10-11T04:57:59.947782Z",
     "shell.execute_reply": "2024-10-11T04:57:59.946910Z"
    },
    "papermill": {
     "duration": 0.215492,
     "end_time": "2024-10-11T04:57:59.949813",
     "exception": false,
     "start_time": "2024-10-11T04:57:59.734321",
     "status": "completed"
    },
    "tags": []
   },
   "outputs": [
    {
     "data": {
      "text/plain": [
       "Discriminator(\n",
       "  (disc): Sequential(\n",
       "    (0): Conv2d(3, 16, kernel_size=(4, 4), stride=(2, 2), padding=(1, 1))\n",
       "    (1): LeakyReLU(negative_slope=0.2)\n",
       "    (2): Sequential(\n",
       "      (0): Conv2d(16, 32, kernel_size=(4, 4), stride=(2, 2), padding=(1, 1), bias=False)\n",
       "      (1): InstanceNorm2d(32, eps=1e-05, momentum=0.1, affine=True, track_running_stats=False)\n",
       "      (2): LeakyReLU(negative_slope=0.2)\n",
       "    )\n",
       "    (3): Sequential(\n",
       "      (0): Conv2d(32, 64, kernel_size=(4, 4), stride=(2, 2), padding=(1, 1), bias=False)\n",
       "      (1): InstanceNorm2d(64, eps=1e-05, momentum=0.1, affine=True, track_running_stats=False)\n",
       "      (2): LeakyReLU(negative_slope=0.2)\n",
       "    )\n",
       "    (4): Sequential(\n",
       "      (0): Conv2d(64, 128, kernel_size=(4, 4), stride=(2, 2), padding=(1, 1), bias=False)\n",
       "      (1): InstanceNorm2d(128, eps=1e-05, momentum=0.1, affine=True, track_running_stats=False)\n",
       "      (2): LeakyReLU(negative_slope=0.2)\n",
       "    )\n",
       "    (5): Conv2d(128, 1, kernel_size=(4, 4), stride=(2, 2))\n",
       "  )\n",
       ")"
      ]
     },
     "execution_count": 7,
     "metadata": {},
     "output_type": "execute_result"
    }
   ],
   "source": [
    "# -----------------------------------------------------------------------------\n",
    "# Create model\n",
    "# -----------------------------------------------------------------------------\n",
    "\n",
    "# from utils import gradient_penalty, save_checkpoint, load_checkpoint\n",
    "# from models.wgan_gp import Discriminator, Generator, initialize_weights\n",
    "\n",
    "gen = Generator(Z_DIM, CHANNELS_IMG, FEATURES_GEN).to(device)\n",
    "critic = Discriminator(CHANNELS_IMG, FEATURES_CRITIC).to(device)\n",
    "\n",
    "\n",
    "if (device.type == 'cuda') and (N_GPU > 1):\n",
    "    gen = nn.DataParallel(gen, list(range(N_GPU)))\n",
    "\n",
    "\n",
    "initialize_weights(gen)\n",
    "initialize_weights(critic)\n",
    "\n",
    "# initializate optimizer\n",
    "opt_gen = optim.Adam(gen.parameters(), lr=LEARNING_RATE, betas=(0.0, 0.9))\n",
    "opt_critic = optim.Adam(critic.parameters(), lr=LEARNING_RATE, betas=(0.0, 0.9))\n",
    "\n",
    "# for tensorboard plotting\n",
    "fixed_noise = torch.randn(32, Z_DIM, 1, 1).to(device)\n",
    "writer_real = SummaryWriter(f\"logs/GAN_MNIST/real\")\n",
    "writer_fake = SummaryWriter(f\"logs/GAN_MNIST/fake\")\n",
    "step = 0\n",
    "\n",
    "gen.train()\n",
    "critic.train()"
   ]
  },
  {
   "cell_type": "code",
   "execution_count": 8,
   "id": "c6759c5e",
   "metadata": {
    "execution": {
     "iopub.execute_input": "2024-10-11T04:57:59.961136Z",
     "iopub.status.busy": "2024-10-11T04:57:59.960345Z",
     "iopub.status.idle": "2024-10-11T05:50:58.169275Z",
     "shell.execute_reply": "2024-10-11T05:50:58.167690Z"
    },
    "papermill": {
     "duration": 3178.216877,
     "end_time": "2024-10-11T05:50:58.171489",
     "exception": false,
     "start_time": "2024-10-11T04:57:59.954612",
     "status": "completed"
    },
    "tags": []
   },
   "outputs": [
    {
     "name": "stderr",
     "output_type": "stream",
     "text": [
      " 20%|█▉        | 26/133 [03:26<14:53,  8.35s/it]"
     ]
    },
    {
     "name": "stdout",
     "output_type": "stream",
     "text": [
      "Epoch [0/5] Batch 25/133                   loss D: -24.7161, loss G: 14.5011, GAN loss: -10.2150\n"
     ]
    },
    {
     "name": "stderr",
     "output_type": "stream",
     "text": [
      " 38%|███▊      | 51/133 [06:48<11:30,  8.42s/it]"
     ]
    },
    {
     "name": "stdout",
     "output_type": "stream",
     "text": [
      "Epoch [0/5] Batch 50/133                   loss D: -58.9397, loss G: 30.9775, GAN loss: -27.9621\n"
     ]
    },
    {
     "name": "stderr",
     "output_type": "stream",
     "text": [
      " 57%|█████▋    | 76/133 [10:16<07:56,  8.36s/it]"
     ]
    },
    {
     "name": "stdout",
     "output_type": "stream",
     "text": [
      "Epoch [0/5] Batch 75/133                   loss D: -85.8361, loss G: 45.6967, GAN loss: -40.1394\n"
     ]
    },
    {
     "name": "stderr",
     "output_type": "stream",
     "text": [
      " 76%|███████▌  | 101/133 [13:43<04:27,  8.36s/it]"
     ]
    },
    {
     "name": "stdout",
     "output_type": "stream",
     "text": [
      "Epoch [0/5] Batch 100/133                   loss D: -108.2838, loss G: 60.2322, GAN loss: -48.0516\n"
     ]
    },
    {
     "name": "stderr",
     "output_type": "stream",
     "text": [
      " 95%|█████████▍| 126/133 [17:07<00:58,  8.38s/it]"
     ]
    },
    {
     "name": "stdout",
     "output_type": "stream",
     "text": [
      "Epoch [0/5] Batch 125/133                   loss D: -125.8745, loss G: 73.6916, GAN loss: -52.1829\n"
     ]
    },
    {
     "name": "stderr",
     "output_type": "stream",
     "text": [
      "100%|██████████| 133/133 [18:03<00:00,  8.15s/it]\n",
      " 20%|█▉        | 26/133 [01:54<08:11,  4.60s/it]"
     ]
    },
    {
     "name": "stdout",
     "output_type": "stream",
     "text": [
      "Epoch [1/5] Batch 25/133                   loss D: -146.9672, loss G: 91.5526, GAN loss: -55.4146\n"
     ]
    },
    {
     "name": "stderr",
     "output_type": "stream",
     "text": [
      " 38%|███▊      | 51/133 [03:44<06:19,  4.63s/it]"
     ]
    },
    {
     "name": "stdout",
     "output_type": "stream",
     "text": [
      "Epoch [1/5] Batch 50/133                   loss D: -156.6491, loss G: 101.1491, GAN loss: -55.5000\n"
     ]
    },
    {
     "name": "stderr",
     "output_type": "stream",
     "text": [
      " 57%|█████▋    | 76/133 [05:35<04:20,  4.56s/it]"
     ]
    },
    {
     "name": "stdout",
     "output_type": "stream",
     "text": [
      "Epoch [1/5] Batch 75/133                   loss D: -170.7571, loss G: 113.5610, GAN loss: -57.1961\n"
     ]
    },
    {
     "name": "stderr",
     "output_type": "stream",
     "text": [
      " 76%|███████▌  | 101/133 [07:24<02:21,  4.41s/it]"
     ]
    },
    {
     "name": "stdout",
     "output_type": "stream",
     "text": [
      "Epoch [1/5] Batch 100/133                   loss D: -178.5804, loss G: 123.8388, GAN loss: -54.7416\n"
     ]
    },
    {
     "name": "stderr",
     "output_type": "stream",
     "text": [
      " 95%|█████████▍| 126/133 [09:14<00:32,  4.57s/it]"
     ]
    },
    {
     "name": "stdout",
     "output_type": "stream",
     "text": [
      "Epoch [1/5] Batch 125/133                   loss D: -181.3604, loss G: 131.7619, GAN loss: -49.5985\n"
     ]
    },
    {
     "name": "stderr",
     "output_type": "stream",
     "text": [
      "100%|██████████| 133/133 [09:46<00:00,  4.41s/it]\n",
      " 20%|█▉        | 26/133 [02:01<08:54,  4.99s/it]"
     ]
    },
    {
     "name": "stdout",
     "output_type": "stream",
     "text": [
      "Epoch [2/5] Batch 25/133                   loss D: -190.2058, loss G: 147.3734, GAN loss: -42.8324\n"
     ]
    },
    {
     "name": "stderr",
     "output_type": "stream",
     "text": [
      " 38%|███▊      | 51/133 [03:58<06:32,  4.78s/it]"
     ]
    },
    {
     "name": "stdout",
     "output_type": "stream",
     "text": [
      "Epoch [2/5] Batch 50/133                   loss D: -190.7123, loss G: 160.1082, GAN loss: -30.6042\n"
     ]
    },
    {
     "name": "stderr",
     "output_type": "stream",
     "text": [
      " 57%|█████▋    | 76/133 [05:52<04:30,  4.75s/it]"
     ]
    },
    {
     "name": "stdout",
     "output_type": "stream",
     "text": [
      "Epoch [2/5] Batch 75/133                   loss D: -195.6020, loss G: 176.8415, GAN loss: -18.7605\n"
     ]
    },
    {
     "name": "stderr",
     "output_type": "stream",
     "text": [
      " 76%|███████▌  | 101/133 [07:42<02:16,  4.28s/it]"
     ]
    },
    {
     "name": "stdout",
     "output_type": "stream",
     "text": [
      "Epoch [2/5] Batch 100/133                   loss D: -198.4936, loss G: 187.7233, GAN loss: -10.7703\n"
     ]
    },
    {
     "name": "stderr",
     "output_type": "stream",
     "text": [
      " 95%|█████████▍| 126/133 [09:25<00:29,  4.18s/it]"
     ]
    },
    {
     "name": "stdout",
     "output_type": "stream",
     "text": [
      "Epoch [2/5] Batch 125/133                   loss D: -189.2610, loss G: 201.7988, GAN loss: 12.5378\n"
     ]
    },
    {
     "name": "stderr",
     "output_type": "stream",
     "text": [
      "100%|██████████| 133/133 [09:50<00:00,  4.44s/it]\n",
      " 20%|█▉        | 26/133 [01:33<06:19,  3.55s/it]"
     ]
    },
    {
     "name": "stdout",
     "output_type": "stream",
     "text": [
      "Epoch [3/5] Batch 25/133                   loss D: -187.5544, loss G: 215.1953, GAN loss: 27.6409\n"
     ]
    },
    {
     "name": "stderr",
     "output_type": "stream",
     "text": [
      " 38%|███▊      | 51/133 [02:58<04:52,  3.57s/it]"
     ]
    },
    {
     "name": "stdout",
     "output_type": "stream",
     "text": [
      "Epoch [3/5] Batch 50/133                   loss D: -186.6380, loss G: 228.3679, GAN loss: 41.7299\n"
     ]
    },
    {
     "name": "stderr",
     "output_type": "stream",
     "text": [
      " 57%|█████▋    | 76/133 [04:24<03:24,  3.59s/it]"
     ]
    },
    {
     "name": "stdout",
     "output_type": "stream",
     "text": [
      "Epoch [3/5] Batch 75/133                   loss D: -187.5474, loss G: 227.9242, GAN loss: 40.3768\n"
     ]
    },
    {
     "name": "stderr",
     "output_type": "stream",
     "text": [
      " 76%|███████▌  | 101/133 [05:51<01:56,  3.63s/it]"
     ]
    },
    {
     "name": "stdout",
     "output_type": "stream",
     "text": [
      "Epoch [3/5] Batch 100/133                   loss D: -186.0720, loss G: 227.4395, GAN loss: 41.3674\n"
     ]
    },
    {
     "name": "stderr",
     "output_type": "stream",
     "text": [
      " 95%|█████████▍| 126/133 [07:17<00:25,  3.59s/it]"
     ]
    },
    {
     "name": "stdout",
     "output_type": "stream",
     "text": [
      "Epoch [3/5] Batch 125/133                   loss D: -175.0371, loss G: 231.7968, GAN loss: 56.7598\n"
     ]
    },
    {
     "name": "stderr",
     "output_type": "stream",
     "text": [
      "100%|██████████| 133/133 [07:40<00:00,  3.46s/it]\n",
      " 20%|█▉        | 26/133 [01:29<06:23,  3.59s/it]"
     ]
    },
    {
     "name": "stdout",
     "output_type": "stream",
     "text": [
      "Epoch [4/5] Batch 25/133                   loss D: -171.4162, loss G: 230.3940, GAN loss: 58.9778\n"
     ]
    },
    {
     "name": "stderr",
     "output_type": "stream",
     "text": [
      " 38%|███▊      | 51/133 [02:54<04:56,  3.62s/it]"
     ]
    },
    {
     "name": "stdout",
     "output_type": "stream",
     "text": [
      "Epoch [4/5] Batch 50/133                   loss D: -166.8916, loss G: 227.4431, GAN loss: 60.5515\n"
     ]
    },
    {
     "name": "stderr",
     "output_type": "stream",
     "text": [
      " 57%|█████▋    | 76/133 [04:21<03:27,  3.65s/it]"
     ]
    },
    {
     "name": "stdout",
     "output_type": "stream",
     "text": [
      "Epoch [4/5] Batch 75/133                   loss D: -168.7604, loss G: 220.8016, GAN loss: 52.0412\n"
     ]
    },
    {
     "name": "stderr",
     "output_type": "stream",
     "text": [
      " 76%|███████▌  | 101/133 [05:48<01:53,  3.54s/it]"
     ]
    },
    {
     "name": "stdout",
     "output_type": "stream",
     "text": [
      "Epoch [4/5] Batch 100/133                   loss D: -166.4785, loss G: 225.3223, GAN loss: 58.8438\n"
     ]
    },
    {
     "name": "stderr",
     "output_type": "stream",
     "text": [
      " 95%|█████████▍| 126/133 [07:13<00:25,  3.61s/it]"
     ]
    },
    {
     "name": "stdout",
     "output_type": "stream",
     "text": [
      "Epoch [4/5] Batch 125/133                   loss D: -152.9933, loss G: 231.2563, GAN loss: 78.2631\n"
     ]
    },
    {
     "name": "stderr",
     "output_type": "stream",
     "text": [
      "100%|██████████| 133/133 [07:37<00:00,  3.44s/it]\n"
     ]
    }
   ],
   "source": [
    "\n",
    "# -----------------------------------------------------------------------------\n",
    "# Train model\n",
    "# -----------------------------------------------------------------------------\n",
    "\n",
    "loader = train_loader\n",
    "\n",
    "for epoch in range(NUM_EPOCHS):\n",
    "    # Target labels not needed! <3 unsupervised\n",
    "    for batch_idx, (real, _) in enumerate(tqdm(loader)):\n",
    "        real = real.to(device)\n",
    "        cur_batch_size = real.shape[0]\n",
    "\n",
    "        # Train Critic: max E[critic(real)] - E[critic(fake)]\n",
    "        # equivalent to minimizing the negative of that\n",
    "        for _ in range(CRITIC_ITERATIONS):\n",
    "            noise = torch.randn(cur_batch_size, Z_DIM, 1, 1).to(device)\n",
    "            fake = gen(noise)\n",
    "            critic_real = critic(real).reshape(-1)\n",
    "            critic_fake = critic(fake).reshape(-1)\n",
    "            gp = gradient_penalty(critic, real, fake, device=device)\n",
    "            loss_critic = (\n",
    "                -(torch.mean(critic_real) - torch.mean(critic_fake)) + LAMBDA_GP * gp\n",
    "            )\n",
    "            critic.zero_grad()\n",
    "            loss_critic.backward(retain_graph=True)\n",
    "            opt_critic.step()\n",
    "\n",
    "        # Train Generator: max E[critic(gen_fake)] <-> min -E[critic(gen_fake)]\n",
    "        gen_fake = critic(fake).reshape(-1)\n",
    "        loss_gen = -torch.mean(gen_fake)\n",
    "        gen.zero_grad()\n",
    "        loss_gen.backward()\n",
    "        opt_gen.step()\n",
    "        \n",
    "        c_loss = loss_gen + loss_critic\n",
    "        # Print losses occasionally and print to tensorboard\n",
    "        if batch_idx % 25 == 0 and batch_idx > 0:\n",
    "            print(\n",
    "                f\"Epoch [{epoch}/{NUM_EPOCHS}] Batch {batch_idx}/{len(loader)} \\\n",
    "                  loss D: {loss_critic:.4f}, loss G: {loss_gen:.4f}, GAN loss: {c_loss:.4f}\"\n",
    "            )\n",
    "\n",
    "            with torch.no_grad():\n",
    "                fake = gen(fixed_noise)\n",
    "                # take out (up to) 32 examples\n",
    "                img_grid_real = torchvision.utils.make_grid(real[:32], normalize=True)\n",
    "                img_grid_fake = torchvision.utils.make_grid(fake[:32], normalize=True)\n",
    "\n",
    "                writer_real.add_image(\"Real\", img_grid_real, global_step=step)\n",
    "                writer_fake.add_image(\"Fake\", img_grid_fake, global_step=step)\n",
    "\n",
    "            step += 1"
   ]
  },
  {
   "cell_type": "code",
   "execution_count": 9,
   "id": "5e4f5d22",
   "metadata": {
    "execution": {
     "iopub.execute_input": "2024-10-11T05:50:58.295276Z",
     "iopub.status.busy": "2024-10-11T05:50:58.294505Z",
     "iopub.status.idle": "2024-10-11T05:50:58.578036Z",
     "shell.execute_reply": "2024-10-11T05:50:58.576934Z"
    },
    "papermill": {
     "duration": 0.345733,
     "end_time": "2024-10-11T05:50:58.579989",
     "exception": false,
     "start_time": "2024-10-11T05:50:58.234256",
     "status": "completed"
    },
    "tags": []
   },
   "outputs": [
    {
     "name": "stdout",
     "output_type": "stream",
     "text": [
      "=> Saving checkpoint\n",
      "=> Loading checkpoint\n"
     ]
    }
   ],
   "source": [
    "save_checkpoint({\n",
    "    'gen': gen.state_dict(),\n",
    "    'disc': critic.state_dict(),\n",
    "    'gen_opt': opt_gen.state_dict(),\n",
    "    'disc_opt': opt_critic.state_dict()\n",
    "}, CKPT_PATH)\n",
    "\n",
    "\n",
    "load_checkpoint(torch.load(CKPT_PATH), gen, critic)"
   ]
  },
  {
   "cell_type": "code",
   "execution_count": null,
   "id": "e84254bc",
   "metadata": {
    "papermill": {
     "duration": 0.058641,
     "end_time": "2024-10-11T05:50:58.697110",
     "exception": false,
     "start_time": "2024-10-11T05:50:58.638469",
     "status": "completed"
    },
    "tags": []
   },
   "outputs": [],
   "source": []
  }
 ],
 "metadata": {
  "kaggle": {
   "accelerator": "nvidiaTeslaT4",
   "dataSources": [
    {
     "databundleVersionId": 9588407,
     "sourceId": 85141,
     "sourceType": "competition"
    }
   ],
   "dockerImageVersionId": 30787,
   "isGpuEnabled": true,
   "isInternetEnabled": true,
   "language": "python",
   "sourceType": "notebook"
  },
  "kernelspec": {
   "display_name": "Python 3",
   "language": "python",
   "name": "python3"
  },
  "language_info": {
   "codemirror_mode": {
    "name": "ipython",
    "version": 3
   },
   "file_extension": ".py",
   "mimetype": "text/x-python",
   "name": "python",
   "nbconvert_exporter": "python",
   "pygments_lexer": "ipython3",
   "version": "3.10.14"
  },
  "papermill": {
   "default_parameters": {},
   "duration": 3216.855126,
   "end_time": "2024-10-11T05:51:01.683080",
   "environment_variables": {},
   "exception": null,
   "input_path": "__notebook__.ipynb",
   "output_path": "__notebook__.ipynb",
   "parameters": {},
   "start_time": "2024-10-11T04:57:24.827954",
   "version": "2.6.0"
  }
 },
 "nbformat": 4,
 "nbformat_minor": 5
}
