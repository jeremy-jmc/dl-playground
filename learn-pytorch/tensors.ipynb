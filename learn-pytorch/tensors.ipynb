{
 "cells": [
  {
   "cell_type": "code",
   "execution_count": 8,
   "metadata": {},
   "outputs": [
    {
     "name": "stdout",
     "output_type": "stream",
     "text": [
      "tensor([[[1, 2, 3],\n",
      "         [4, 5, 6],\n",
      "         [7, 8, 9]]])\n",
      "tensor([[[ 1],\n",
      "         [ 3],\n",
      "         [ 5]],\n",
      "\n",
      "        [[ 7],\n",
      "         [ 9],\n",
      "         [11]],\n",
      "\n",
      "        [[13],\n",
      "         [15],\n",
      "         [17]]])\n"
     ]
    }
   ],
   "source": [
    "import torch\n",
    "\n",
    "# generate a tensor 3*3 from 1 to 9\n",
    "x = torch.arange(1, 10).view(1, 3, 3)\n",
    "print(x)\n",
    "\n",
    "# generate a tensor 3*3 from 1 to 9 with step 2\n",
    "y = torch.arange(1, 18, 2).view(3, 3, 1)\n",
    "print(y)"
   ]
  },
  {
   "cell_type": "code",
   "execution_count": null,
   "metadata": {},
   "outputs": [],
   "source": [
    "# https://pytorch.org/docs/stable/generated/torch.Tensor.detach.html\n",
    "# https://pytorch.org/docs/stable/generated/torch.unsqueeze.html\n",
    "# https://pytorch.org/docs/stable/generated/torch.squeeze.html\n",
    "# https://pytorch.org/docs/stable/generated/torch.Tensor.view.html"
   ]
  }
 ],
 "metadata": {
  "kernelspec": {
   "display_name": "Python 3",
   "language": "python",
   "name": "python3"
  },
  "language_info": {
   "codemirror_mode": {
    "name": "ipython",
    "version": 3
   },
   "file_extension": ".py",
   "mimetype": "text/x-python",
   "name": "python",
   "nbconvert_exporter": "python",
   "pygments_lexer": "ipython3",
   "version": "3.10.12"
  }
 },
 "nbformat": 4,
 "nbformat_minor": 2
}
